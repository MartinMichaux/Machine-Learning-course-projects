{
 "cells": [
  {
   "cell_type": "code",
   "execution_count": 9,
   "metadata": {},
   "outputs": [],
   "source": [
    "# Class of k-Nearest Neigbor Classifier\n",
    "import pandas as pd\n",
    "from sklearn import preprocessing\n",
    "\n",
    "class kNN():\n",
    "    def __init__(self, k = 3, exp = 2):\n",
    "    # constructor for kNN classifier \n",
    "    # k is the number of neighbor for local class estimation\n",
    "    # exp is the exponent for the Minkowski distance\n",
    "        self.k = k\n",
    "        self.exp = exp\n",
    "        \n",
    "        \n",
    "      \n",
    "    def fit(self, X_train, Y_train):\n",
    "    # training k-NN method\n",
    "    # X_train is the training data given with input attributes. n-th row correponds to n-th instance.\n",
    "    # Y_train is the output data (output vector): n-th element of Y_train is the output value for n-th instance in X_train.\n",
    "        self.X_train = X_train\n",
    "        self.Y_train = Y_train   \n",
    "         \n",
    "    def getDiscreteClassification(self, X_test):\n",
    "    # predict-class k-NN method\n",
    "    # X_test is the test data given with input attributes. Rows correpond to instances\n",
    "    # Method outputs prediction vector Y_pred_test:  n-th element of Y_pred_test is the prediction for n-th instance in X_test\n",
    "        \n",
    "        Y_pred_test = [] #prediction vector Y_pred_test for all the test instances in X_test is initialized to empty list []\n",
    "        \n",
    "   \n",
    "        for i in range(len(X_test)):   #iterate over all instances in X_test\n",
    "            test_instance = X_test.iloc[i] #i-th test instance \n",
    "            \n",
    "            distances = []  #list of distances of the i-th test_instance for all the train_instance s in X_train, initially empty.\n",
    "          \n",
    "            for j in range(len(self.X_train)):  #iterate over all instances in X_train\n",
    "                train_instance = self.X_train.iloc[j] #j-th training instance \n",
    "                distance = self.Minkowski_distance(test_instance, train_instance) #distance between i-th test instance and j-th training instance  \n",
    "                distances.append(distance) #add the distance to the list of distances of the i-th test_instance\n",
    "        \n",
    "            # Store distances in a dataframe. The dataframe has the index of Y_train in order to keep the correspondence with the classes of the training instances \n",
    "            df_dists = pd.DataFrame(data=distances, columns=['dist'], index = self.Y_train.index)\n",
    "        \n",
    "            # Sort distances, and only consider the k closest points in the new dataframe df_knn\n",
    "            df_nn = df_dists.sort_values(by=['dist'], axis=0)\n",
    "            df_knn =  df_nn[:self.k]\n",
    "            \n",
    "            # Note that the index df_knn.index of df_knn contains indices in Y_train of the k-closed training instances to \n",
    "            # the i-th test instance. Thus, the dataframe self.Y_train[df_knn.index] contains the classes of those k-closed \n",
    "            # training instances. Method value_counts() computes the counts (number of occurencies) for each class in \n",
    "            # self.Y_train[df_knn.index] in dataframe predictions. \n",
    "            predictions = self.Y_train[df_knn.index].value_counts()\n",
    "                 \n",
    "            # the first element of the index predictions.index contains the class with the highest count; i.e. the prediction y_pred_test.\n",
    "            y_pred_test = predictions.index[0]\n",
    "\n",
    "            # add the prediction y_pred_test to the prediction vector Y_pred_test for all the test instances in X_test\n",
    "            Y_pred_test.append(y_pred_test)\n",
    "        \n",
    "        return Y_pred_test\n",
    "\n",
    "    \n",
    "    def Minkowski_distance(self, x1, x2):\n",
    "    # computes the Minkowski distance of x1 and x2 for two labeled instances (x1,y1) and (x2,y2)\n",
    "    \n",
    "        # Set initial distance to 0\n",
    "        distance = 0\n",
    "    \n",
    "        # Calculate Minkowski distance using the exponent exp\n",
    "        for i in range(len(x1)):\n",
    "            distance = distance + abs(x1[i] - x2[i])**self.exp\n",
    "        \n",
    "        distance = distance**(1/self.exp)\n",
    "    \n",
    "        return distance\n",
    "    \n",
    "    #EXERCISE B:\n",
    "    #I created a static method that takes X_train and X_test as paremeters and returns the same values normalized the the max of X_train\n",
    "    @staticmethod\n",
    "    def normalize(X_train,X_test):\n",
    "        max = X_train.max()\n",
    "        X_train = X_train/max\n",
    "        X_test = X_test/max\n",
    "        return X_train, X_test\n",
    "\n",
    "        \n",
    "    #EXERCISE C:\n",
    "    def getClassProbs(self, X_test):\n",
    "    # X_test is the test data given with input attributes. Rows correpond to instances\n",
    "    # Method outputs posterior class probabilities of vector Y_pred_test:  n-th element of Y_pred_test is the set of class probas. for n-th instance in X_test\n",
    "   \n",
    "        #compute all possible class as columns (the row will represent each test instance and their probas)\n",
    "        possibleClass = list(pd.unique(self.Y_train))\n",
    "    \n",
    "        #table that will contain each test instance as row with their probas. and colum as all possible class\n",
    "        Y_postClassProba_test = pd.DataFrame(columns = possibleClass) \n",
    "\n",
    "        for i in range(len(X_test)):   #iterate over all instances in X_test\n",
    "            test_instance = X_test.iloc[i] #i-th test instance \n",
    "            \n",
    "            distances = []  #list of distances of the i-th test_instance for all the train_instance s in X_train, initially empty.\n",
    "          \n",
    "            for j in range(len(self.X_train)):  #iterate over all instances in X_train\n",
    "                train_instance = self.X_train.iloc[j] #j-th training instance \n",
    "                distance = self.Minkowski_distance(test_instance, train_instance) #distance between i-th test instance and j-th training instance  \n",
    "                distances.append(distance) #add the distance to the list of distances of the i-th test_instance\n",
    "        \n",
    "            # Store distances in a dataframe. The dataframe has the index of Y_train in order to keep the correspondence with the classes of the training instances \n",
    "            df_dists = pd.DataFrame(data=distances, columns=['dist'], index = self.Y_train.index)\n",
    "        \n",
    "            # Sort distances, and only consider the k closest points in the new dataframe df_knn\n",
    "            df_nn = df_dists.sort_values(by=['dist'], axis=0)\n",
    "            df_knn =  df_nn[:self.k]         \n",
    "\n",
    "            # Note that the index df_knn.index of df_knn contains indices in Y_train of the k-closed training instances to \n",
    "            # the i-th test instance. Thus, the dataframe self.Y_train[df_knn.index] contains the classes of those k-closed \n",
    "            # training instances. Method value_counts() computes the counts (number of occurencies) for each class in \n",
    "            # self.Y_train[df_knn.index] in dataframe predictions. \n",
    "            predictions = self.Y_train[df_knn.index].value_counts()\n",
    "            \n",
    "            #all points around the test instance that are in the k-range\n",
    "            innerPoints = self.Y_train[df_knn.index]\n",
    "            #take the nbr of points in that k-range to calculate later the probas.\n",
    "            totalNbrOfInstances = len(innerPoints)\n",
    "            \n",
    "            probs = []\n",
    "            #calculate for all possible class, the probas. of each test instance \n",
    "            for j in range(len(possibleClass)):\n",
    "                #if the occurence of the class is different than 0\n",
    "                try:\n",
    "                    probs.append((predictions.iloc[j]/totalNbrOfInstances).item())\n",
    "                #if the occurence is equal to 0, its proba is also 0\n",
    "                except:\n",
    "                    probs.append(0)\n",
    "\n",
    "                                    \n",
    "            # add the probas. of y_pred_test for all the test instances in X_test\n",
    "            Y_postClassProba_test.loc[i] = probs\n",
    "        return Y_postClassProba_test\n",
    "        \n",
    "    #EXERCISE D:\n",
    "    def getPrediction(self, X_test):\n",
    "    # predict-class k-NN method\n",
    "    # X_test is the test data given with input attributes. Rows correpond to instances\n",
    "    # Method outputs prediction vector Y_pred_test:  n-th element of Y_pred_test is the prediction for n-th instance in X_test\n",
    "   \n",
    "\n",
    "        Y_pred_test = [] #prediction vector Y_pred_test for all the test instances in X_test is initialized to empty list []\n",
    "\n",
    "        for i in range(len(X_test)):   #iterate over all instances in X_test\n",
    "            test_instance = X_test.iloc[i] #i-th test instance \n",
    "            \n",
    "            distances = []  #list of distances of the i-th test_instance for all the train_instance s in X_train, initially empty.\n",
    "          \n",
    "            for j in range(len(self.X_train)):  #iterate over all instances in X_train\n",
    "                train_instance = self.X_train.iloc[j] #j-th training instance \n",
    "                distance = self.Minkowski_distance(test_instance, train_instance) #distance between i-th test instance and j-th training instance  \n",
    "                distances.append(distance) #add the distance to the list of distances of the i-th test_instance\n",
    "        \n",
    "            # Store distances in a dataframe. The dataframe has the index of Y_train in order to keep the correspondence with the classes of the training instances \n",
    "            df_dists = pd.DataFrame(data=distances, columns=['dist'], index = self.Y_train.index)\n",
    "        \n",
    "            # Sort distances, and only consider the k closest points in the new dataframe df_knn\n",
    "            df_nn = df_dists.sort_values(by=['dist'], axis=0)\n",
    "            df_knn =  df_nn[:self.k]  \n",
    "            # Note that the index df_knn.index of df_knn contains indices in Y_train of the k-closed training instances to \n",
    "            # the i-th test instance. Thus, the dataframe self.Y_train[df_knn.index] contains the classes of those k-closed \n",
    "            # training instances. Method value_counts() computes the counts (number of occurencies) for each class in \n",
    "            # self.Y_train[df_knn.index] in dataframe predictions. \n",
    "            predictions = self.Y_train[df_knn.index].value_counts()\n",
    "            \n",
    "            #calculates the average prediction of the classes for  each test instance depending on the regression function\n",
    "            average = sum(predictions.index)/self.k\n",
    "\n",
    "            # add the prediction y_pred_test to the prediction vector Y_pred_test for all the test instances in X_test\n",
    "            Y_pred_test.append(average)\n",
    "        \n",
    "        return Y_pred_test\n",
    "    \n"
   ]
  },
  {
   "cell_type": "markdown",
   "metadata": {},
   "source": [
    "# QUESTION B"
   ]
  },
  {
   "cell_type": "markdown",
   "metadata": {},
   "source": [
    "# DIABETE DATA"
   ]
  },
  {
   "cell_type": "code",
   "execution_count": 3,
   "metadata": {},
   "outputs": [],
   "source": [
    "import matplotlib.pyplot as plt\n",
    "import numpy as np\n",
    "import pandas as pd\n",
    "\n",
    "from numpy.random import random\n",
    "from sklearn.metrics import accuracy_score\n",
    "from sklearn.model_selection import train_test_split\n",
    "##################################################\n",
    "# Hold-out testing: Training and Test set creation\n",
    "##################################################\n",
    "# TEST DIABETE DATA WITHOUT NORMALIZATION\n",
    "\n",
    "data = pd.read_csv('diabetes.csv')\n",
    "data.head()\n",
    "Y = data['class']\n",
    "X = data.drop(['class'],axis=1)\n",
    "\n",
    "X_train, X_test, Y_train, Y_test = train_test_split(X, Y, test_size=0.34, random_state=10)\n",
    "\n",
    "# range for the values of parameter k for kNN\n",
    "\n",
    "k_range = [1, 3, 5, 7, 9, 11, 13, 15, 17, 19, 21, 23, 25, 27, 29, 31]\n",
    "\n",
    "trainAcc = np.zeros(len(k_range))\n",
    "testAcc = np.zeros(len(k_range))\n",
    "\n",
    "#data testing with data not normalized depending on the k value\n",
    "index = 0 \n",
    "for k  in  k_range:\n",
    "    clf = kNN(k)\n",
    "    #for not normalized data\n",
    "    clf.fit(X_train, Y_train)\n",
    "    Y_predTrain = clf.getDiscreteClassification(X_train)\n",
    "    Y_predTest = clf.getDiscreteClassification(X_test)\n",
    "    trainAcc[index] = accuracy_score(Y_train, Y_predTrain)\n",
    "    testAcc[index] = accuracy_score(Y_test, Y_predTest)\n",
    "    index += 1"
   ]
  },
  {
   "cell_type": "code",
   "execution_count": 4,
   "metadata": {},
   "outputs": [
    {
     "data": {
      "text/plain": [
       "Text(0, 0.5, 'Accuracy')"
      ]
     },
     "execution_count": 4,
     "metadata": {},
     "output_type": "execute_result"
    },
    {
     "data": {
      "image/png": "[encoded data removed]",
      "text/plain": [
       "<Figure size 432x288 with 1 Axes>"
      ]
     },
     "metadata": {
      "needs_background": "light"
     },
     "output_type": "display_data"
    }
   ],
   "source": [
    "import matplotlib.pyplot as plt\n",
    "import numpy as np\n",
    "import pandas as pd\n",
    "\n",
    "from numpy.random import random\n",
    "from sklearn.metrics import accuracy_score\n",
    "from sklearn.model_selection import train_test_split\n",
    "##################################################\n",
    "# Hold-out testing: Training and Test set creation\n",
    "##################################################\n",
    "# TEST DIABETE DATA WITH NORMALIZATION\n",
    "\n",
    "data = pd.read_csv('diabetes.csv')\n",
    "data.head()\n",
    "Y = data['class']\n",
    "X = data.drop(['class'],axis=1)\n",
    "\n",
    "X_train, X_test, Y_train, Y_test = train_test_split(X, Y, test_size=0.34, random_state=10)\n",
    "#normalize the data\n",
    "X_train, X_test = kNN.normalize(X_train,X_test)\n",
    "\n",
    "# range for the values of parameter k for kNN\n",
    "k_range = [1, 3, 5, 7, 9, 11, 13, 15, 17, 19, 21, 23, 25, 27, 29, 31]\n",
    "\n",
    "trainAccNormalized = np.zeros(len(k_range))\n",
    "testAccNormalized = np.zeros(len(k_range))\n",
    "\n",
    "#data testing with data normalized depending on the k value\n",
    "index = 0 \n",
    "for k  in  k_range:\n",
    "    clf = kNN(k)\n",
    "    clf.fit(X_train, Y_train)\n",
    "    Y_predTrain = clf.getDiscreteClassification(X_train)\n",
    "    Y_predTest = clf.getDiscreteClassification(X_test)\n",
    "    trainAccNormalized[index] = accuracy_score(Y_train, Y_predTrain)\n",
    "    testAccNormalized[index] = accuracy_score(Y_test, Y_predTest)\n",
    "    index += 1\n",
    "    \n",
    "plt.plot(k_range,trainAcc,k_range,testAcc,k_range,trainAccNormalized,k_range,testAccNormalized)\n",
    "plt.legend(['Training Accuracy','Test Accuracy','Training Normalized Accuracy','Test Normalized Accuracy'])\n",
    "plt.xlabel('k')\n",
    "plt.ylabel('Accuracy')"
   ]
  },
  {
   "cell_type": "markdown",
   "metadata": {},
   "source": [
    "In the accuracy rate graph above, we can clearly see than there is not a big difference of accuracy between the normalized and original data.\n",
    "Nevertheless, the normalization of the data does modify the calculation of the prediction.\n",
    "Indeed, after being normalized, the distance between each attribute instance point has changed (smaller), so very high original data is rescaled to a smaller one, so the k-range may contain that data while the k-range of the original data may not contain it because of its high distance difference.\n",
    "So a higher accuracy in the normalized data is due to the fact that the standard deviation between the normalized data is much smaller than the original data."
   ]
  },
  {
   "cell_type": "markdown",
   "metadata": {},
   "source": [
    "# GLASS DATA"
   ]
  },
  {
   "cell_type": "code",
   "execution_count": 5,
   "metadata": {
    "scrolled": true
   },
   "outputs": [],
   "source": [
    "import matplotlib.pyplot as plt\n",
    "import numpy as np\n",
    "import pandas as pd\n",
    "\n",
    "from numpy.random import random\n",
    "from sklearn.metrics import accuracy_score\n",
    "from sklearn.model_selection import train_test_split\n",
    "\n",
    "##################################################\n",
    "# Hold-out testing: Training and Test set creation\n",
    "##################################################\n",
    "# TESTING GLASS DATA WITHOUT NORMALIZATION ON K VALUE\n",
    "data = pd.read_csv('glass.csv')\n",
    "data.head()\n",
    "Y = data['class']\n",
    "X = data.drop(['class'],axis=1)\n",
    "\n",
    "X_train, X_test, Y_train, Y_test = train_test_split(X, Y, test_size=0.34, random_state=10)\n",
    "\n",
    "\n",
    "# range for the values of parameter k for kNN\n",
    "k_range = [1, 3, 5, 7, 9, 11, 13, 15, 17, 19, 21, 23, 25, 27, 29, 31]\n",
    "\n",
    "trainAcc = np.zeros(len(k_range))\n",
    "testAcc = np.zeros(len(k_range))\n",
    "\n",
    "#data testing with data not normalized depending on the k value\n",
    "index = 0 \n",
    "for k  in  k_range:\n",
    "    clf = kNN(k)\n",
    "    #for not normalized data\n",
    "    clf.fit(X_train, Y_train)\n",
    "    Y_predTrain = clf.getDiscreteClassification(X_train)\n",
    "    Y_predTest = clf.getDiscreteClassification(X_test)\n",
    "    trainAcc[index] = accuracy_score(Y_train, Y_predTrain)\n",
    "    testAcc[index] = accuracy_score(Y_test, Y_predTest)\n",
    "    index += 1"
   ]
  },
  {
   "cell_type": "code",
   "execution_count": 6,
   "metadata": {},
   "outputs": [
    {
     "data": {
      "text/plain": [
       "Text(0, 0.5, 'Accuracy')"
      ]
     },
     "execution_count": 6,
     "metadata": {},
     "output_type": "execute_result"
    },
    {
     "data": {
      "image/png": "[encoded data removed]",
      "text/plain": [
       "<Figure size 432x288 with 1 Axes>"
      ]
     },
     "metadata": {
      "needs_background": "light"
     },
     "output_type": "display_data"
    }
   ],
   "source": [
    "import matplotlib.pyplot as plt\n",
    "import numpy as np\n",
    "import pandas as pd\n",
    "\n",
    "from numpy.random import random\n",
    "from sklearn.metrics import accuracy_score\n",
    "from sklearn.model_selection import train_test_split\n",
    "\n",
    "##################################################\n",
    "# Hold-out testing: Training and Test set creation\n",
    "##################################################\n",
    "# TESTING GLASS DATA WITH NORMALIZATION ON K VALUE\n",
    "data = pd.read_csv('glass.csv')\n",
    "data.head()\n",
    "Y = data['class']\n",
    "X = data.drop(['class'],axis=1)\n",
    "\n",
    "X_train, X_test, Y_train, Y_test = train_test_split(X, Y, test_size=0.34, random_state=10)\n",
    "#normalize the data\n",
    "X_train, X_test = kNN.normalize(X_train,X_test)\n",
    "\n",
    "# range for the values of parameter k for kNN\n",
    "\n",
    "k_range = [1, 3, 5, 7, 9, 11, 13, 15, 17, 19, 21, 23, 25, 27, 29, 31]\n",
    "\n",
    "trainAccNormalized = np.zeros(len(k_range))\n",
    "testAccNormalized = np.zeros(len(k_range))\n",
    "\n",
    "#data testing with data normalized depending on the k value\n",
    "index = 0 \n",
    "for k  in  k_range:\n",
    "    clf = kNN(k)\n",
    "    clf.fit(X_train, Y_train)\n",
    "    Y_predTrain = clf.getDiscreteClassification(X_train)\n",
    "    Y_predTest = clf.getDiscreteClassification(X_test)\n",
    "    trainAccNormalized[index] = accuracy_score(Y_train, Y_predTrain)\n",
    "    testAccNormalized[index] = accuracy_score(Y_test, Y_predTest)\n",
    "    index += 1\n",
    "    \n",
    "plt.plot(k_range,trainAcc,k_range,testAcc,k_range,trainAccNormalized,k_range,testAccNormalized)\n",
    "plt.legend(['Training Accuracy','Test Accuracy','Training Normalized Accuracy','Test Normalized Accuracy'])\n",
    "plt.xlabel('k')\n",
    "plt.ylabel('Accuracy')"
   ]
  },
  {
   "cell_type": "markdown",
   "metadata": {},
   "source": [
    "In the accuracy rate graph above, we can clearly see than there is not a big difference of accuracy between the normalized and original data.\n",
    "Nevertheless, the normalization of the data does modify the calculation of the prediction.\n",
    "Indeed, after being normalized, the distance between each attribute instance point has changed (smaller), so very high original data is rescaled to a smaller one, so the k-range may contain that data while the k-range of the original data may not contain it because of its high distance difference.\n",
    "So a higher accuracy in the normalized data is due to the fact that the standard deviation between the normalized data is much smaller than the original data."
   ]
  },
  {
   "cell_type": "markdown",
   "metadata": {},
   "source": [
    "# QUESTION B WITH EXP RANGE ON GLASS DATA"
   ]
  },
  {
   "cell_type": "code",
   "execution_count": 7,
   "metadata": {},
   "outputs": [
    {
     "name": "stderr",
     "output_type": "stream",
     "text": [
      "<ipython-input-2-e63bfd26ae6a>:70: RuntimeWarning: overflow encountered in double_scalars\n",
      "  distance = distance + abs(x1[i] - x2[i])**self.exp\n"
     ]
    },
    {
     "data": {
      "text/plain": [
       "Text(0, 0.5, 'Accuracy')"
      ]
     },
     "execution_count": 7,
     "metadata": {},
     "output_type": "execute_result"
    },
    {
     "data": {
      "image/png": "[encoded data removed]",
      "text/plain": [
       "<Figure size 432x288 with 1 Axes>"
      ]
     },
     "metadata": {
      "needs_background": "light"
     },
     "output_type": "display_data"
    }
   ],
   "source": [
    "import matplotlib.pyplot as plt\n",
    "import numpy as np\n",
    "import pandas as pd\n",
    "\n",
    "from numpy.random import random\n",
    "from sklearn.metrics import accuracy_score\n",
    "from sklearn.model_selection import train_test_split\n",
    "\n",
    "##################################################\n",
    "# Hold-out testing: Training and Test set creation\n",
    "##################################################\n",
    "# TESTING GLASS DATA WITH NORMALIZATION ON EXP OF MINK. DISTANCE\n",
    "data = pd.read_csv('glass.csv')\n",
    "data.head()\n",
    "Y = data['class']\n",
    "X = data.drop(['class'],axis=1)\n",
    "\n",
    "X_train, X_test, Y_train, Y_test = train_test_split(X, Y, test_size=0.34, random_state=10)\n",
    "#normalize the data\n",
    "X_train, X_test = kNN.normalize(X_train,X_test)\n",
    "\n",
    "exp_range = [2,  100, 10000]    \n",
    "trainAccExpNorm = np.zeros(len(exp_range))\n",
    "testAccExpNorm = np.zeros(len(exp_range))\n",
    "#data testing with data normalized depending on the exp of the Minkowski distance\n",
    "index = 0 \n",
    "for exp  in  exp_range:\n",
    "    clf = kNN(k = 3, exp = exp)\n",
    "    clf.fit(X_train, Y_train)\n",
    "    Y_predTrain = clf.getDiscreteClassification(X_train)\n",
    "    Y_predTest = clf.getDiscreteClassification(X_test)\n",
    "    trainAccExpNorm[index] = accuracy_score(Y_train, Y_predTrain)\n",
    "    testAccExpNorm[index] = accuracy_score(Y_test, Y_predTest)\n",
    "    index += 1\n",
    "\n",
    "plt.plot(exp_range,trainAccExpNorm,'ro-',exp_range,testAccExpNorm,'bv--')\n",
    "plt.legend(['Training Accuracy','Test Accuracy'])\n",
    "plt.xlabel('exp')\n",
    "plt.ylabel('Accuracy') "
   ]
  },
  {
   "cell_type": "markdown",
   "metadata": {},
   "source": [
    "In the accuracy rate graph above, we can clearly see that the higher the exp of the Minkowski distance is, the accuracy of both data decreases drastically \n",
    "But, after a specifif exp value, wen see that the accuracy of the test data is better than the instance data\n",
    "This is due to the fact that, because the data is normalized, the distance are smaller, therefore, if those distances are high exponenital, the distances will be even drastically smaller. So, it makes the accuracy of both smaller."
   ]
  },
  {
   "cell_type": "markdown",
   "metadata": {},
   "source": [
    "# QUESTION C"
   ]
  },
  {
   "cell_type": "markdown",
   "metadata": {},
   "source": [
    "# DIABETE DATA"
   ]
  },
  {
   "cell_type": "code",
   "execution_count": 8,
   "metadata": {},
   "outputs": [
    {
     "name": "stdout",
     "output_type": "stream",
     "text": [
      "     tested_positive  tested_negative\n",
      "0                0.5              0.5\n",
      "1                0.9              0.1\n",
      "2                0.7              0.3\n",
      "3                1.0              0.0\n",
      "4                0.9              0.1\n",
      "..               ...              ...\n",
      "257              1.0              0.0\n",
      "258              0.5              0.5\n",
      "259              0.5              0.5\n",
      "260              1.0              0.0\n",
      "261              0.6              0.4\n",
      "\n",
      "[262 rows x 2 columns]\n"
     ]
    }
   ],
   "source": [
    "import matplotlib.pyplot as plt\n",
    "import numpy as np\n",
    "import pandas as pd\n",
    "\n",
    "from numpy.random import random\n",
    "from sklearn.metrics import accuracy_score\n",
    "from sklearn.model_selection import train_test_split\n",
    "\n",
    "##################################################\n",
    "# Hold-out testing: Training and Test set creation\n",
    "##################################################\n",
    "\n",
    "data = pd.read_csv('diabetes.csv')\n",
    "data.head()\n",
    "Y = data['class']\n",
    "X = data.drop(['class'],axis=1)\n",
    "\n",
    "X_train, X_test, Y_train, Y_test = train_test_split(X, Y, test_size=0.34, random_state=10)\n",
    "#normalize the data to have better results\n",
    "X_train, X_test = kNN.normalize(X_train,X_test)\n",
    "\n",
    "#I chose to calculates the probas. with a k=10\n",
    "k = 10\n",
    "clf = kNN(k)\n",
    "clf.fit(X_train, Y_train)\n",
    "y_pred_probs = clf.getClassProbs(X_test)\n",
    "print(y_pred_probs)"
   ]
  },
  {
   "cell_type": "markdown",
   "metadata": {},
   "source": [
    "# GLASS DATA"
   ]
  },
  {
   "cell_type": "code",
   "execution_count": 9,
   "metadata": {},
   "outputs": [
    {
     "name": "stdout",
     "output_type": "stream",
     "text": [
      "    'build wind float'  'build wind non-float'  headlamps  'vehic wind float'  \\\n",
      "0                  0.6                     0.4        0.0                 0.0   \n",
      "1                  0.5                     0.4        0.1                 0.0   \n",
      "2                  0.8                     0.2        0.0                 0.0   \n",
      "3                  0.7                     0.2        0.1                 0.0   \n",
      "4                  0.5                     0.5        0.0                 0.0   \n",
      "..                 ...                     ...        ...                 ...   \n",
      "68                 0.7                     0.2        0.1                 0.0   \n",
      "69                 0.4                     0.3        0.3                 0.0   \n",
      "70                 0.6                     0.2        0.1                 0.1   \n",
      "71                 0.5                     0.5        0.0                 0.0   \n",
      "72                 0.5                     0.3        0.2                 0.0   \n",
      "\n",
      "    containers  tableware  \n",
      "0          0.0        0.0  \n",
      "1          0.0        0.0  \n",
      "2          0.0        0.0  \n",
      "3          0.0        0.0  \n",
      "4          0.0        0.0  \n",
      "..         ...        ...  \n",
      "68         0.0        0.0  \n",
      "69         0.0        0.0  \n",
      "70         0.0        0.0  \n",
      "71         0.0        0.0  \n",
      "72         0.0        0.0  \n",
      "\n",
      "[73 rows x 6 columns]\n"
     ]
    }
   ],
   "source": [
    "import matplotlib.pyplot as plt\n",
    "import numpy as np\n",
    "import pandas as pd\n",
    "\n",
    "from numpy.random import random\n",
    "from sklearn.metrics import accuracy_score\n",
    "from sklearn.model_selection import train_test_split\n",
    "\n",
    "##################################################\n",
    "# Hold-out testing: Training and Test set creation\n",
    "##################################################\n",
    "\n",
    "data = pd.read_csv('glass.csv')\n",
    "data.head()\n",
    "Y = data['class']\n",
    "X = data.drop(['class'],axis=1)\n",
    "\n",
    "X_train, X_test, Y_train, Y_test = train_test_split(X, Y, test_size=0.34, random_state=10)\n",
    "#normalize the data to have better results\n",
    "X_train, X_test = kNN.normalize(X_train,X_test)\n",
    "\n",
    "#I chose to calculates the probas. with a k=10\n",
    "k = 10\n",
    "clf = kNN(k)\n",
    "clf.fit(X_train, Y_train)\n",
    "y_pred_probs = clf.getClassProbs(X_test)\n",
    "#print the table probas. table\n",
    "print(y_pred_probs)"
   ]
  },
  {
   "cell_type": "markdown",
   "metadata": {},
   "source": [
    "# QUESTION D ON AUTORPICE DATA"
   ]
  },
  {
   "cell_type": "code",
   "execution_count": 8,
   "metadata": {},
   "outputs": [
    {
     "name": "stdout",
     "output_type": "stream",
     "text": [
      "1957.612727272727\n"
     ]
    }
   ],
   "source": [
    "from sklearn.model_selection import train_test_split\n",
    "from sklearn.metrics import mean_absolute_error \n",
    "\n",
    "data = pd.read_csv('autoprice.csv')\n",
    "data.head()\n",
    "Y = data['class']\n",
    "X = data.drop(['class'],axis=1)\n",
    "\n",
    "X_train, X_test, Y_train, Y_test = train_test_split(X, Y, test_size=0.34, random_state=10)\n",
    "X_train, X_test = kNN.normalize(X_train,X_test)\n",
    "\n",
    "#I chose to calculates the regression prediction with a k=10\n",
    "k = 10\n",
    "\n",
    "clf = kNN(k)\n",
    "clf.fit(X_train, Y_train)\n",
    "Y_predTest = clf.getPrediction(X_test)\n",
    "#calculates the mean absolute error \n",
    "testMeanAbsError = mean_absolute_error(Y_test, Y_predTest)\n",
    "\n",
    "print(testMeanAbsError)"
   ]
  },
  {
   "cell_type": "code",
   "execution_count": null,
   "metadata": {},
   "outputs": [],
   "source": []
  }
 ],
 "metadata": {
  "kernelspec": {
   "display_name": "Python 3",
   "language": "python",
   "name": "python3"
  },
  "language_info": {
   "codemirror_mode": {
    "name": "ipython",
    "version": 3
   },
   "file_extension": ".py",
   "mimetype": "text/x-python",
   "name": "python",
   "nbconvert_exporter": "python",
   "pygments_lexer": "ipython3",
   "version": "3.8.3"
  }
 },
 "nbformat": 4,
 "nbformat_minor": 2
}
