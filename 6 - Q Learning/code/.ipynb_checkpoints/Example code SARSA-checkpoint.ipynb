{
 "cells": [
  {
   "cell_type": "code",
   "execution_count": 1,
   "metadata": {
    "scrolled": true
   },
   "outputs": [
    {
     "name": "stdout",
     "output_type": "stream",
     "text": [
      "Populating the interactive namespace from numpy and matplotlib\n"
     ]
    }
   ],
   "source": [
    "import numpy as np\n",
    "import matplotlib.pyplot as plt\n",
    "%pylab inline\n",
    "import random\n",
    "\n",
    "# parameters\n",
    "gridSize = 4\n",
    "states_terminal = [[0,0], [gridSize-1, gridSize-1]]\n",
    "valid_actions = [[-1, 0], [1, 0], [0, 1], [0, -1]]\n",
    "gamma = 0.1 # discount rate\n",
    "currentReward = -1\n",
    "numIterations = 100\n",
    "alpha = 0.1 #exploration factor\n",
    "\n",
    "# initialization\n",
    "Q = np.zeros((gridSize, gridSize))\n",
    "states = [[i, j] for i in range(gridSize) for j in range(gridSize)]"
   ]
  },
  {
   "cell_type": "code",
   "execution_count": 2,
   "metadata": {},
   "outputs": [],
   "source": [
    "def generateInitialState():\n",
    "    #generate a random initial state\n",
    "    randomI = np.random.randint(gridSize)\n",
    "    randomJ = np.random.choice(gridSize)\n",
    "    initialState = [randomI,randomJ]\n",
    "    #print(\"initial state = \",initialState)\n",
    "    return initialState\n",
    "\n",
    "def generateNextAction():\n",
    "    #generate a random action from the valid set of actions\n",
    "    random = np.random.random_integers(len(valid_actions)-1,size = 1)\n",
    "    nextAction = valid_actions[random.item()]\n",
    "    #print(\"next action = \",nextAction)\n",
    "    return nextAction\n",
    "\n",
    "# define the transition function from a given state and action\n",
    "def getNextState(state, action):\n",
    "    \n",
    "    #define what happens when reaching a terminal state\n",
    "    if state in states_terminal:\n",
    "        #print(\"terminal state\")\n",
    "        return currentReward, state\n",
    "    \n",
    "    # here you should complete this step, the transition step\n",
    "    nextState = [state[0]+action[0],state[1]+action[1]] \n",
    "    \n",
    "    # if the agent reaches a wall \n",
    "    if -1 in nextState or gridSize in nextState:\n",
    "        #print(\"wall touched\")\n",
    "        nextState = state\n",
    "    \n",
    "    return currentReward, nextState"
   ]
  },
  {
   "cell_type": "code",
   "execution_count": 3,
   "metadata": {
    "scrolled": false
   },
   "outputs": [
    {
     "name": "stdout",
     "output_type": "stream",
     "text": [
      "[[ 0.         -0.50537616 -0.85636023 -0.96748114]\n",
      " [-0.97399145 -1.04706077 -1.023284   -0.9886986 ]\n",
      " [-1.10085934 -1.10147687 -1.09733602 -1.06914887]\n",
      " [-1.11111108 -1.11111046 -1.11109876  0.        ]]\n"
     ]
    },
    {
     "name": "stderr",
     "output_type": "stream",
     "text": [
      "<ipython-input-2-6135f95eab51>:11: DeprecationWarning: This function is deprecated. Please call randint(1, 3 + 1) instead\n",
      "  random = np.random.random_integers(len(valid_actions)-1,size = 1)\n"
     ]
    }
   ],
   "source": [
    "for it in range(numIterations):\n",
    "    #initialize random state\n",
    "    currentState = generateInitialState()\n",
    "    while True:\n",
    "        #random action\n",
    "        currentAction = generateNextAction()\n",
    "        \n",
    "        #calculates the immediate reward and the next state\n",
    "        reward, nextState = getNextState(currentState, currentAction)\n",
    "        \n",
    "        #if the current state is a terminal, we stop the loop\n",
    "        if nextState in states_terminal:\n",
    "            break\n",
    "        #update the Q-value function Q\n",
    "        Q[currentState[0],currentState[1]] = (1-alpha)*Q[currentState[0],currentState[1]]+alpha*(reward+gamma*Q[nextState[0],nextState[1]])\n",
    "    \n",
    "        #assign as current state the next state\n",
    "        currentState = nextState          \n",
    "        \n",
    "print(Q)"
   ]
  },
  {
   "cell_type": "code",
   "execution_count": null,
   "metadata": {},
   "outputs": [],
   "source": []
  }
 ],
 "metadata": {
  "kernelspec": {
   "display_name": "Python 3",
   "language": "python",
   "name": "python3"
  },
  "language_info": {
   "codemirror_mode": {
    "name": "ipython",
    "version": 3
   },
   "file_extension": ".py",
   "mimetype": "text/x-python",
   "name": "python",
   "nbconvert_exporter": "python",
   "pygments_lexer": "ipython3",
   "version": "3.8.3"
  }
 },
 "nbformat": 4,
 "nbformat_minor": 4
}
